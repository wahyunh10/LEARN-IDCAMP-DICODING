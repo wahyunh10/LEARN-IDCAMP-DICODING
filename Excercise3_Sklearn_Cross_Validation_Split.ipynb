{
  "nbformat": 4,
  "nbformat_minor": 0,
  "metadata": {
    "colab": {
      "name": "Excercise3_Sklearn_Cross_Validation_Split.ipnyb",
      "provenance": [],
      "authorship_tag": "ABX9TyMzI3zUmbfgPA3SlxgSSdv4",
      "include_colab_link": true
    },
    "kernelspec": {
      "name": "python3",
      "display_name": "Python 3"
    },
    "language_info": {
      "name": "python"
    }
  },
  "cells": [
    {
      "cell_type": "markdown",
      "metadata": {
        "id": "view-in-github",
        "colab_type": "text"
      },
      "source": [
        "<a href=\"https://colab.research.google.com/github/wahyunh10/LEARN-IDCAMP-DICODING/blob/main/Excercise3_Sklearn_Cross_Validation_Split.ipynb\" target=\"_parent\"><img src=\"https://colab.research.google.com/assets/colab-badge.svg\" alt=\"Open In Colab\"/></a>"
      ]
    },
    {
      "cell_type": "code",
      "execution_count": 1,
      "metadata": {
        "id": "s3Jg1No98rXh"
      },
      "outputs": [],
      "source": [
        "import sklearn\n",
        "from sklearn import datasets\n",
        " \n",
        "# load iris dataset\n",
        "iris = datasets.load_iris()"
      ]
    },
    {
      "cell_type": "code",
      "source": [
        "# bagi atribut dan target, assign ke dalam variable x, y\n",
        "x=iris.data\n",
        "y=iris.target"
      ],
      "metadata": {
        "id": "-0-JzsxR9Rhl"
      },
      "execution_count": 2,
      "outputs": []
    },
    {
      "cell_type": "code",
      "source": [
        "from sklearn.model_selection import cross_val_score\n",
        "from sklearn import tree\n",
        " \n",
        "clf = tree.DecisionTreeClassifier()"
      ],
      "metadata": {
        "id": "zmPZH2rC9fNR"
      },
      "execution_count": 3,
      "outputs": []
    },
    {
      "cell_type": "code",
      "source": [
        "# mengevaluasi performa model dengan cross_val_score\n",
        "scores = cross_val_score(clf, x, y, cv=5)\n",
        "scores"
      ],
      "metadata": {
        "id": "cyEZoXrX9jg6",
        "outputId": "0bb0ecc3-96c2-4872-82c9-ac0123853d27",
        "colab": {
          "base_uri": "https://localhost:8080/"
        }
      },
      "execution_count": 4,
      "outputs": [
        {
          "output_type": "execute_result",
          "data": {
            "text/plain": [
              "array([0.96666667, 0.96666667, 0.9       , 0.96666667, 1.        ])"
            ]
          },
          "metadata": {},
          "execution_count": 4
        }
      ]
    }
  ]
}